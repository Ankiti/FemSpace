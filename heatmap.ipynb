import folium 
from folium.plugins import HeatMap
import pandas as pd

data = pd.read_csv('period_products_updated.csv')
m = folium.Map(location=[43.464951,-80.523911], zoom_start=15, tiles='Stamen Terrain')

heat_data = [[row['latitude'], row['longitude'], row['normalized_quantity']] for index, row in data.iterrows()]

colour_gradient = {0.0: 'blue',
                0.6: 'cyan',
                0.7: 'lime',
                0.8: 'yellow',
                1.0: 'red'}

HeatMap(heat_data, min_opacity=0.2, radius=15, max_zoom=13, gradient=colour_gradient).add_to(m)


for index, row in data.iterrows():
    popup_text = f"<b>{row['name']}</b><br>Availability: {row['availability_status']}<br>Tampon Quantity: {row['tampons_quantity']}<br>Pad Quantity: {row['pads_quantity']}"

    folium.CircleMarker(
    location=[row['latitude'], 
         row['longitude']],
    radius=5,
    color='black',
    fill=False,
    fill_opacity=0.4,
    weight=1,
    popup=folium.Popup(popup_text, max_width=300)

    
).add_to(m)

    
color_scale = {
    'Available': 'red',
    'Limited Availability': 'lime',
    'Low Availability': 'cyan',
    'Unavailable': 'blue'
}

# Create a simple legend
legend_html = '''
     <div style="position: fixed; 
     bottom: 50px; left: 50px; width: 120px; height: 110px; 
     z-index: 9999; font-size: 10px;
     background-color: white;
     border-radius: 10px; /* Add curved corners */
     padding: 10px; /* Add padding inside the legend */
     ">
     <p><b>Availability Legend</b></p>
     <div style="display: flex; align-items: center;">
         <i class="fa fa-circle" style="color: red;"></i> <span style="margin-left: 5px;">Available</span>
     </div>
     <div style="display: flex; align-items: center;">
         <i class="fa fa-circle" style="color: lime;"></i> <span style="margin-left: 5px;">Limited Availability</span>
     </div>
     <div style="display: flex; align-items: center;">
         <i class="fa fa-circle" style="color: cyan;"></i> <span style="margin-left: 5px;">Low Availability</span>
     </div>
     <div style="display: flex; align-items: center;">
         <i class="fa fa-circle" style="color: blue;"></i> <span style="margin-left: 5px;">Unavailable</span>
     </div>
     </div>
     '''

# Add the legend to the map
m.get_root().html.add_child(folium.Element(legend_html)).add_to(m.get_root())

m.save('period_product_heatmap.html')

m
